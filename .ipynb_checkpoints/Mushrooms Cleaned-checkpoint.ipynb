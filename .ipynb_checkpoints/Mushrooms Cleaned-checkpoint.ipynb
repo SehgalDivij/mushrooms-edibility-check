{
 "cells": [
  {
   "cell_type": "code",
   "execution_count": 1,
   "metadata": {},
   "outputs": [],
   "source": [
    "import os\n",
    "os.chdir('/home/divij/Desktop/Divij/ML/Mushrooms/')\n",
    "import csv, pandas as pd, numpy as np\n",
    "import sklearn"
   ]
  },
  {
   "cell_type": "code",
   "execution_count": 2,
   "metadata": {},
   "outputs": [],
   "source": [
    "mushrooms = pd.read_csv('mushrooms.csv')\n",
    "pd.set_option('display.max_columns', None)\n",
    "pd.set_option('display.max_colwidth', 0)\n",
    "X = mushrooms.loc[:, 'cap-shape':'habitat']\n",
    "y = pd.DataFrame(mushrooms['class'])"
   ]
  },
  {
   "cell_type": "code",
   "execution_count": 3,
   "metadata": {},
   "outputs": [],
   "source": [
    "from sklearn.preprocessing import LabelEncoder\n",
    "class MultiColumnLabelEncoder:\n",
    "    def __init__(self,columns = None):\n",
    "        self.columns = columns # array of column names to encode\n",
    "\n",
    "    def fit(self,X,y=None):\n",
    "        return self # not relevant here\n",
    "\n",
    "    def transform(self,X):\n",
    "        '''\n",
    "        Transforms columns of X specified in self.columns using\n",
    "        LabelEncoder(). If no columns specified, transforms all\n",
    "        columns in X.\n",
    "        '''\n",
    "        output = X.copy()\n",
    "        if self.columns is not None:\n",
    "            for col in self.columns:\n",
    "                output[col] = LabelEncoder().fit_transform(output[col])\n",
    "        else:\n",
    "            for colname,col in output.iteritems():\n",
    "                output[colname] = LabelEncoder().fit_transform(col)\n",
    "        return output\n",
    "\n",
    "    def fit_transform(self,X,y=None):\n",
    "        return self.fit(X,y).transform(X)"
   ]
  },
  {
   "cell_type": "code",
   "execution_count": 4,
   "metadata": {},
   "outputs": [],
   "source": [
    "from sklearn.preprocessing import OneHotEncoder\n",
    "onehot_encoder = OneHotEncoder(categorical_features=[0])\n",
    "X_encoded = MultiColumnLabelEncoder(columns=list(X.columns)).fit_transform(X)\n",
    "X_1h_encoder = OneHotEncoder(categorical_features='all')\n",
    "X_processed = X_1h_encoder.fit_transform(X_encoded).toarray()"
   ]
  },
  {
   "cell_type": "code",
   "execution_count": 5,
   "metadata": {},
   "outputs": [],
   "source": [
    "from sklearn.model_selection import train_test_split\n",
    "x_train, x_test, y_train, y_test = train_test_split(X_processed, y, test_size=0.25, random_state=0)"
   ]
  },
  {
   "cell_type": "code",
   "execution_count": 6,
   "metadata": {},
   "outputs": [
    {
     "name": "stderr",
     "output_type": "stream",
     "text": [
      "/usr/local/lib/python3.5/dist-packages/sklearn/utils/validation.py:578: DataConversionWarning: A column-vector y was passed when a 1d array was expected. Please change the shape of y to (n_samples, ), for example using ravel().\n",
      "  y = column_or_1d(y, warn=True)\n"
     ]
    },
    {
     "data": {
      "text/plain": [
       "LogisticRegression(C=1.0, class_weight=None, dual=False, fit_intercept=True,\n",
       "          intercept_scaling=1, max_iter=100, multi_class='ovr', n_jobs=1,\n",
       "          penalty='l2', random_state=None, solver='liblinear', tol=0.0001,\n",
       "          verbose=0, warm_start=False)"
      ]
     },
     "execution_count": 6,
     "metadata": {},
     "output_type": "execute_result"
    }
   ],
   "source": [
    "from sklearn.linear_model import LogisticRegression\n",
    "logisticRegressor = LogisticRegression()\n",
    "logisticRegressor.fit(x_train, y_train)"
   ]
  },
  {
   "cell_type": "code",
   "execution_count": 7,
   "metadata": {},
   "outputs": [],
   "source": [
    "predictions = logisticRegressor.predict(x_test)"
   ]
  },
  {
   "cell_type": "code",
   "execution_count": 8,
   "metadata": {},
   "outputs": [
    {
     "name": "stdout",
     "output_type": "stream",
     "text": [
      "['p' 'e' 'e' ..., 'p' 'e' 'e']\n"
     ]
    }
   ],
   "source": [
    "print(predictions)"
   ]
  },
  {
   "cell_type": "code",
   "execution_count": 9,
   "metadata": {},
   "outputs": [],
   "source": [
    "score = logisticRegressor.score(x_test, y_test)"
   ]
  },
  {
   "cell_type": "code",
   "execution_count": 10,
   "metadata": {},
   "outputs": [
    {
     "name": "stdout",
     "output_type": "stream",
     "text": [
      "1.0\n"
     ]
    }
   ],
   "source": [
    "print(score)"
   ]
  },
  {
   "cell_type": "code",
   "execution_count": 11,
   "metadata": {},
   "outputs": [],
   "source": [
    "# A score of 1. Yay! or is it a mistake?\n",
    "from sklearn.metrics import classification_report\n",
    "regression_coefficients = logisticRegressor.coef_[0][0]"
   ]
  },
  {
   "cell_type": "code",
   "execution_count": 12,
   "metadata": {},
   "outputs": [],
   "source": [
    "# Now a confusion matrix\n",
    "import matplotlib.pyplot as plt\n",
    "import seaborn as sns\n",
    "from sklearn import metrics"
   ]
  },
  {
   "cell_type": "code",
   "execution_count": 13,
   "metadata": {},
   "outputs": [],
   "source": [
    "# Constructing the confusion matrix\n",
    "cm = metrics.confusion_matrix(y_test, predictions)"
   ]
  },
  {
   "cell_type": "code",
   "execution_count": 14,
   "metadata": {},
   "outputs": [
    {
     "data": {
      "text/plain": [
       "Text(0.5,1,'Accuracy Score: 1.0')"
      ]
     },
     "execution_count": 14,
     "metadata": {},
     "output_type": "execute_result"
    },
    {
     "data": {
      "image/png": "[encoded data removed]",
      "text/plain": [
       "<matplotlib.figure.Figure at 0x7ff19ae2f748>"
      ]
     },
     "metadata": {},
     "output_type": "display_data"
    }
   ],
   "source": [
    "# Plotting a confusion matrix\n",
    "plt.figure(figsize=(2,2))\n",
    "sns.heatmap(cm, annot=True, fmt=\".3f\", linewidths=.5, square = True, cmap = 'Blues_r')\n",
    "plt.ylabel('Actual category')\n",
    "plt.xlabel('Predicted category')\n",
    "all_sample_title = 'Accuracy Score: {0}'.format(score)\n",
    "plt.title(all_sample_title, size = 15)"
   ]
  },
  {
   "cell_type": "code",
   "execution_count": 15,
   "metadata": {},
   "outputs": [],
   "source": [
    "# Individual Weights of each feature on the class of the mushroom\n",
    "categorical_features = (X_encoded.dtypes.values != np.dtype('float64'))\n",
    "categorical = X_encoded.columns[categorical_features]\n",
    "uniq_vals = X[categorical].apply(lambda x: x.value_counts()).unstack()\n",
    "uniq_vals = uniq_vals[~uniq_vals.isnull()]\n",
    "enc_cols = list(uniq_vals.index.map('{0[0]}_{0[1]}'.format)) # https://stackoverflow.com/questions/41987743/merge-two-multiindex-levels-into-one-in-pandas\n",
    "enc_df = pd.DataFrame(X, columns=enc_cols, index=X_encoded.index, dtype='bool')\n",
    "coefs = logisticRegressor.coef_[0]\n",
    "# weights dictionary to hold actual weights values\n",
    "weights = {}\n",
    "for name, value in zip(enc_cols, coefs):\n",
    "    weights[name] = value\n",
    "#     print(name, ':', value)"
   ]
  },
  {
   "cell_type": "code",
   "execution_count": 16,
   "metadata": {},
   "outputs": [
    {
     "data": {
      "text/plain": [
       "{'bruises_f': -0.085480371592883922,\n",
       " 'bruises_t': 0.16147387078214179,\n",
       " 'cap-color_b': 0.88645839118407088,\n",
       " 'cap-color_c': -0.88329380492846399,\n",
       " 'cap-color_e': 0.028976984095957285,\n",
       " 'cap-color_g': -0.015553083276841417,\n",
       " 'cap-color_n': -0.32375232386535141,\n",
       " 'cap-color_p': 0.7498990686895054,\n",
       " 'cap-color_r': -0.32299939122147053,\n",
       " 'cap-color_u': -0.34745534416781809,\n",
       " 'cap-color_w': 0.56465421082722722,\n",
       " 'cap-color_y': -0.260941208147563,\n",
       " 'cap-shape_b': 0.29533892974835407,\n",
       " 'cap-shape_c': 0.42938118640404221,\n",
       " 'cap-shape_f': -0.017237252926664594,\n",
       " 'cap-shape_k': -0.036674811158266103,\n",
       " 'cap-shape_s': -0.50960776902413241,\n",
       " 'cap-shape_x': -0.085206783854062287,\n",
       " 'cap-surface_f': -0.79836891020339729,\n",
       " 'cap-surface_g': 0.67384266579478902,\n",
       " 'cap-surface_s': 0.25050391628990126,\n",
       " 'cap-surface_y': -0.049984172692032654,\n",
       " 'gill-attachment_a': -0.10320590414132008,\n",
       " 'gill-attachment_f': 0.17919940333057965,\n",
       " 'gill-color_b': 1.8757407768414915,\n",
       " 'gill-color_e': -0.53292359375638543,\n",
       " 'gill-color_g': -0.010532385721356292,\n",
       " 'gill-color_h': 0.061442170290819623,\n",
       " 'gill-color_k': -0.38331094422449052,\n",
       " 'gill-color_n': -0.64743182243353314,\n",
       " 'gill-color_o': -0.10572283716761308,\n",
       " 'gill-color_p': -0.44687912633543853,\n",
       " 'gill-color_r': 0.67111683244075349,\n",
       " 'gill-color_u': -0.26345729657513911,\n",
       " 'gill-color_w': -0.37841652159509553,\n",
       " 'gill-color_y': 0.23636824742523821,\n",
       " 'gill-size_b': -2.1076029528166003,\n",
       " 'gill-size_n': 2.1835964520058475,\n",
       " 'gill-spacing_c': 1.5198632916015848,\n",
       " 'gill-spacing_w': -1.4438697924123418,\n",
       " 'habitat_d': -0.27611763783843518,\n",
       " 'habitat_g': 0.7078654428730039,\n",
       " 'habitat_l': 0.13361922853875494,\n",
       " 'habitat_m': 0.69892193600307695,\n",
       " 'habitat_p': -0.33381073345598899,\n",
       " 'habitat_u': 0.31710839950536718,\n",
       " 'habitat_w': -1.171593136436518,\n",
       " 'odor_a': -2.6589706862592202,\n",
       " 'odor_c': 2.6242488884803525,\n",
       " 'odor_f': 2.6391253837486919,\n",
       " 'odor_l': -2.8122878220797989,\n",
       " 'odor_m': 0.33035517438497519,\n",
       " 'odor_n': -3.9432010763192511,\n",
       " 'odor_p': 2.1590375255038179,\n",
       " 'odor_s': 0.85983804675649211,\n",
       " 'odor_y': 0.87784806497318713,\n",
       " 'population_a': -0.011746725111271596,\n",
       " 'population_c': 1.3534803373889204,\n",
       " 'population_n': -0.77106566906796981,\n",
       " 'population_s': 0.34032792826698832,\n",
       " 'population_v': 0.34718136826090512,\n",
       " 'population_y': -1.1821837405483229,\n",
       " 'ring-number_n': 0.33035517438497519,\n",
       " 'ring-number_o': -0.0067022033193999825,\n",
       " 'ring-number_t': -0.24765947187631171,\n",
       " 'ring-type_e': 0.59965225390050103,\n",
       " 'ring-type_f': -1.4900564356811052,\n",
       " 'ring-type_l': 0.68606389362083353,\n",
       " 'ring-type_n': 0.33035517438497519,\n",
       " 'ring-type_p': -0.050021387035945337,\n",
       " 'spore-print-color_b': -0.10294583632260126,\n",
       " 'spore-print-color_h': 1.0110142829557816,\n",
       " 'spore-print-color_k': -1.3220516853203967,\n",
       " 'spore-print-color_n': -1.5644215663547079,\n",
       " 'spore-print-color_o': -0.091712378494689079,\n",
       " 'spore-print-color_r': 3.434683134587516,\n",
       " 'spore-print-color_u': -1.4949776672912165,\n",
       " 'spore-print-color_w': 0.29444632063064508,\n",
       " 'spore-print-color_y': -0.088041105201075373,\n",
       " 'stalk-color-above-ring_b': 0.20436996388926196,\n",
       " 'stalk-color-above-ring_c': 0.33035517438497519,\n",
       " 'stalk-color-above-ring_e': -0.44629921814420415,\n",
       " 'stalk-color-above-ring_g': -0.36511154546245789,\n",
       " 'stalk-color-above-ring_n': -0.15740850213092045,\n",
       " 'stalk-color-above-ring_o': -0.30400203053434038,\n",
       " 'stalk-color-above-ring_p': 0.26642752708747253,\n",
       " 'stalk-color-above-ring_w': -0.016564763082009007,\n",
       " 'stalk-color-above-ring_y': 0.56422689318146979,\n",
       " 'stalk-color-below-ring_b': 0.13917859557868051,\n",
       " 'stalk-color-below-ring_c': 0.33035517438497519,\n",
       " 'stalk-color-below-ring_e': -0.34906630360608332,\n",
       " 'stalk-color-below-ring_g': -0.32023636414626466,\n",
       " 'stalk-color-below-ring_n': -0.96447753758419053,\n",
       " 'stalk-color-below-ring_o': -0.30400203053434038,\n",
       " 'stalk-color-below-ring_p': 0.39265787638471455,\n",
       " 'stalk-color-below-ring_w': 0.29498391300013704,\n",
       " 'stalk-color-below-ring_y': 0.85660017571162717,\n",
       " 'stalk-root_?': -0.47888675169450068,\n",
       " 'stalk-root_b': 2.374851401078288,\n",
       " 'stalk-root_c': -0.94057453545968173,\n",
       " 'stalk-root_e': 0.065530737500118647,\n",
       " 'stalk-root_r': -0.94492735223496005,\n",
       " 'stalk-shape_e': 0.68370383857636463,\n",
       " 'stalk-shape_t': -0.60771033938710006,\n",
       " 'stalk-surface-above-ring_f': -0.70200963430600971,\n",
       " 'stalk-surface-above-ring_k': 1.783839559492213,\n",
       " 'stalk-surface-above-ring_s': -1.1035838141029062,\n",
       " 'stalk-surface-above-ring_y': 0.097747388105959149,\n",
       " 'stalk-surface-below-ring_f': -1.141905689464179,\n",
       " 'stalk-surface-below-ring_k': 0.42882658131361606,\n",
       " 'stalk-surface-below-ring_s': -0.47708969822845032,\n",
       " 'stalk-surface-below-ring_y': 1.2661623055682696,\n",
       " 'veil-color_n': -0.15366635120793487,\n",
       " 'veil-color_o': -0.15033567932640554,\n",
       " 'veil-color_w': -0.18423136345787569,\n",
       " 'veil-color_y': 0.56422689318146979,\n",
       " 'veil-type_p': 0.0759934991892601}"
      ]
     },
     "execution_count": 16,
     "metadata": {},
     "output_type": "execute_result"
    }
   ],
   "source": [
    "weights"
   ]
  },
  {
   "cell_type": "code",
   "execution_count": 17,
   "metadata": {},
   "outputs": [],
   "source": [
    "def get_original_feature_weights(weights):\n",
    "    \"\"\"\n",
    "    Reconstruct original feature weights from encoded categorical features.\n",
    "    \"\"\"\n",
    "    original_feature_weights = {}\n",
    "    base_weight = 0\n",
    "    for item in weights:\n",
    "        feature_name = '_'.join(item.split('_')[0:-1])\n",
    "        if feature_name not in original_feature_weights:\n",
    "            original_feature_weights[feature_name] = weights[item]\n",
    "        else:\n",
    "            original_feature_weights[feature_name] = original_feature_weights[feature_name] + weights[item]\n",
    "    return original_feature_weights"
   ]
  },
  {
   "cell_type": "code",
   "execution_count": 20,
   "metadata": {
    "scrolled": false
   },
   "outputs": [
    {
     "name": "stdout",
     "output_type": "stream",
     "text": [
      "{'gill-size': 0.075993499189247249, 'stalk-shape': 0.075993499189264568, 'stalk-surface-above-ring': 0.075993499189256353, 'stalk-color-above-ring': 0.075993499189247526, 'gill-attachment': 0.075993499189259572, 'odor': 0.075993499189246472, 'gill-spacing': 0.07599349918924303, 'stalk-surface-below-ring': 0.075993499189256353, 'habitat': 0.075993499189260794, 'cap-color': 0.075993499189252356, 'population': 0.075993499189249469, 'bruises': 0.075993499189257865, 'veil-color': 0.07599349918925366, 'stalk-color-below-ring': 0.075993499189255576, 'stalk-root': 0.075993499189264152, 'ring-number': 0.0759934991892635, 'spore-print-color': 0.075993499189255465, 'veil-type': 0.0759934991892601, 'gill-color': 0.075993499189250913, 'cap-surface': 0.07599349918926035, 'ring-type': 0.075993499189259017, 'cap-shape': 0.075993499189270897}\n"
     ]
    }
   ],
   "source": [
    "original_weights = get_original_feature_weights(weights)\n",
    "print(original_weights)"
   ]
  },
  {
   "cell_type": "code",
   "execution_count": 22,
   "metadata": {
    "scrolled": false
   },
   "outputs": [
    {
     "data": {
      "image/png": "[encoded data removed]",
      "text/plain": [
       "<matplotlib.figure.Figure at 0x7ff19ac92be0>"
      ]
     },
     "metadata": {},
     "output_type": "display_data"
    }
   ],
   "source": [
    "# An attempt to reconstruct the feature weights for the original feature set.\n",
    "# All seem to have more or less equal effect\n",
    "# Which means that this last part of resonstructing the final weights for all features is more or less not logically correct.\n",
    "plot = plt.figure(figsize=(40,10))\n",
    "plt.bar(range(len(original_weights)), original_weights.values(), align='center')\n",
    "plt.xticks(range(len(original_weights)), original_weights.keys())\n",
    "plt.show()"
   ]
  }
 ],
 "metadata": {
  "kernelspec": {
   "display_name": "Python 3",
   "language": "python",
   "name": "python3"
  },
  "language_info": {
   "codemirror_mode": {
    "name": "ipython",
    "version": 3
   },
   "file_extension": ".py",
   "mimetype": "text/x-python",
   "name": "python",
   "nbconvert_exporter": "python",
   "pygments_lexer": "ipython3",
   "version": "3.5.2"
  }
 },
 "nbformat": 4,
 "nbformat_minor": 2
}
